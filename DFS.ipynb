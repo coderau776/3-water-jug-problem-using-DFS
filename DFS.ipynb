{
 "cells": [
  {
   "cell_type": "code",
   "execution_count": 71,
   "metadata": {},
   "outputs": [],
   "source": [
    "import copy\n",
    "import time\n",
    "mxstate=[8,5,3]"
   ]
  },
  {
   "cell_type": "code",
   "execution_count": 57,
   "metadata": {},
   "outputs": [],
   "source": [
    "def ab(stat):\n",
    "    state=copy.deepcopy(stat)\n",
    "    if(state[0]==0):\n",
    "        return None\n",
    "    else:\n",
    "        if state[1]==mxstate[1]:\n",
    "            return None\n",
    "        else:\n",
    "            diff = mxstate[1]-state[1]\n",
    "            if(diff<=state[0]):\n",
    "                state[1]=mxstate[1]\n",
    "                state[0]-=diff\n",
    "            else:\n",
    "                state[1]+=state[0]\n",
    "                state[0]=0\n",
    "            return state\n"
   ]
  },
  {
   "cell_type": "code",
   "execution_count": 58,
   "metadata": {},
   "outputs": [],
   "source": [
    "def ba(stat):\n",
    "    state=copy.deepcopy(stat)\n",
    "    if(state[1]==0):\n",
    "        return None\n",
    "    else:\n",
    "        if state[0]==mxstate[0]:\n",
    "            return None\n",
    "        else:\n",
    "            diff = mxstate[0]-state[0]\n",
    "            if(diff<=state[1]):\n",
    "                state[0]=mxstate[0]\n",
    "                state[1]-=diff\n",
    "            else:\n",
    "                state[0]+=state[1]\n",
    "                state[1]=0\n",
    "            return state\n"
   ]
  },
  {
   "cell_type": "code",
   "execution_count": 59,
   "metadata": {},
   "outputs": [],
   "source": [
    "def ac(stat):\n",
    "    state=copy.deepcopy(stat)\n",
    "    if(state[0]==0):\n",
    "        return None\n",
    "    else:\n",
    "        if state[2]==mxstate[2]:\n",
    "            return None\n",
    "        else:\n",
    "            diff = mxstate[2]-state[2]\n",
    "            if(diff<=state[0]):\n",
    "                state[2]=mxstate[2]\n",
    "                state[0]-=diff\n",
    "            else:\n",
    "                state[2]+=state[0]\n",
    "                state[0]=0\n",
    "            return state\n"
   ]
  },
  {
   "cell_type": "code",
   "execution_count": 60,
   "metadata": {},
   "outputs": [],
   "source": [
    "def bc(stat):\n",
    "    state=copy.deepcopy(stat)\n",
    "    if(state[1]==0):\n",
    "        return None\n",
    "    else:\n",
    "        if state[2]==mxstate[2]:\n",
    "            return None\n",
    "        else:\n",
    "            diff = mxstate[2]-state[2]\n",
    "            if(diff<=state[1]):\n",
    "                state[2]=mxstate[2]\n",
    "                state[1]-=diff\n",
    "            else:\n",
    "                state[2]+=state[1]\n",
    "                state[1]=0\n",
    "            return state\n"
   ]
  },
  {
   "cell_type": "code",
   "execution_count": 61,
   "metadata": {},
   "outputs": [],
   "source": [
    "def ca(stat):\n",
    "    state=copy.deepcopy(stat)\n",
    "    if(state[2]==0):\n",
    "        return None\n",
    "    else:\n",
    "        if state[0]==mxstate[0]:\n",
    "            return None\n",
    "        else:\n",
    "            diff = mxstate[0]-state[0]\n",
    "            if(diff<=state[2]):\n",
    "                state[0]=mxstate[0]\n",
    "                state[2]-=diff\n",
    "            else:\n",
    "                state[0]+=state[2]\n",
    "                state[2]=0\n",
    "            return state\n"
   ]
  },
  {
   "cell_type": "code",
   "execution_count": 62,
   "metadata": {},
   "outputs": [],
   "source": [
    "def cb(stat):\n",
    "    state=copy.deepcopy(stat)\n",
    "    if(state[2]==0):\n",
    "        return None\n",
    "    else:\n",
    "        if state[1]==mxstate[1]:\n",
    "            return None\n",
    "        else:\n",
    "            diff = mxstate[1]-state[1]\n",
    "            if(diff<=state[2]):\n",
    "                state[1]=mxstate[1]\n",
    "                state[2]-=diff\n",
    "            else:\n",
    "                state[1]+=state[2]\n",
    "                state[2]=0\n",
    "            return state\n"
   ]
  },
  {
   "cell_type": "code",
   "execution_count": 107,
   "metadata": {},
   "outputs": [],
   "source": []
  },
  {
   "cell_type": "code",
   "execution_count": 120,
   "metadata": {},
   "outputs": [],
   "source": [
    "def dfs(start,goal,vis):\n",
    "    time.sleep(2)\n",
    "    if(len(vis)==0):\n",
    "        cnt=0\n",
    "    dfs.counter+=1\n",
    "    if(start==goal):\n",
    "        print(\"Start is goal\")\n",
    "        return start\n",
    "    #print(start)\n",
    "    vis.append(start)\n",
    "    while vis:\n",
    "        child = ab(vis[-1])\n",
    "        if(child!=None and child not in vis):\n",
    "            print(\"State => \",vis[-1],\"Action => Pour water from A to B\")\n",
    "            if(child==goal):\n",
    "                return child\n",
    "            \n",
    "            return dfs(child,goal,vis)\n",
    "        \n",
    "        child = bc(vis[-1])\n",
    "        if(child!=None and child not in vis):\n",
    "            print(\"State => \",vis[-1],\"Action => Pour water from B to C\")\n",
    "            if(child==goal):\n",
    "                return child\n",
    "            \n",
    "            return dfs(child,goal,vis)\n",
    "        \n",
    "        child = ac(vis[-1])\n",
    "        if(child!=None and child not in vis):\n",
    "            print(\"State => \",vis[-1],\"Action => Pour water from A to C\")\n",
    "            if(child==goal):\n",
    "                return child\n",
    "            \n",
    "            return dfs(child,goal,vis)\n",
    "        \n",
    "        child = ba(vis[-1])\n",
    "        if(child!=None and child not in vis):\n",
    "            print(\"State => \",vis[-1],\"Action => Pour water from B to A\")\n",
    "            if(child==goal):\n",
    "                return child\n",
    "            \n",
    "            return dfs(child,goal,vis)\n",
    "        \n",
    "        child = ca(vis[-1])\n",
    "        if(child!=None and child not in vis):\n",
    "            print(\"State => \",vis[-1],\"Action => Pour water from C to A\")\n",
    "            if(child==goal):\n",
    "                return child\n",
    "            \n",
    "            return dfs(child,goal,vis)\n",
    "        \n",
    "        child = cb(vis[-1])\n",
    "        if(child!=None and child not in vis):\n",
    "            print(\"State => \",vis[-1],\"Action => Pour water from C to B\")\n",
    "            if(child==goal):\n",
    "                return child\n",
    "            \n",
    "            return dfs(child,goal,vis)\n",
    "        vis.pop()\n"
   ]
  },
  {
   "cell_type": "code",
   "execution_count": null,
   "metadata": {},
   "outputs": [
    {
     "name": "stdout",
     "output_type": "stream",
     "text": [
      "-----   3 jugs => A B C with capacity as [8,0,0]   -----\n",
      "-----   Intitial state=[8,0,0]   Final state=[4,4,0]   -----\n",
      "-----   The process is as follows=> \n",
      "State =>  [8, 0, 0] Action => Pour water from A to B\n",
      "State =>  [3, 5, 0] Action => Pour water from B to C\n",
      "State =>  [3, 2, 3] Action => Pour water from A to B\n",
      "State =>  [0, 5, 3] Action => Pour water from B to A\n",
      "State =>  [5, 0, 3] Action => Pour water from C to B\n",
      "State =>  [5, 3, 0] Action => Pour water from A to C\n",
      "State =>  [2, 3, 3] Action => Pour water from C to B\n",
      "State =>  [2, 5, 1] Action => Pour water from B to A\n",
      "State =>  [7, 0, 1] Action => Pour water from C to B\n",
      "State =>  [7, 1, 0] Action => Pour water from A to C\n"
     ]
    }
   ],
   "source": [
    "dfs.counter=0\n",
    "print(\"-----   3 jugs => A B C with capacity as [8,0,0]   -----\")\n",
    "print(\"-----   Intitial state=[8,0,0]   Final state=[4,4,0]   -----\")\n",
    "print(\"-----   The process is as follows=> \")\n",
    "s=time.time()\n",
    "print(\"The final state => \",dfs([8,0,0],[4,4,0],[]))\n",
    "e=time.time()\n",
    "print(\"------------------------------------------------------\")\n",
    "print(\"Total steps required => \",dfs.counter)\n",
    "print(\"Execution time => %s seconds\"% (e-s))\n"
   ]
  },
  {
   "cell_type": "code",
   "execution_count": null,
   "metadata": {},
   "outputs": [],
   "source": []
  },
  {
   "cell_type": "code",
   "execution_count": null,
   "metadata": {},
   "outputs": [],
   "source": []
  },
  {
   "cell_type": "code",
   "execution_count": null,
   "metadata": {},
   "outputs": [],
   "source": []
  }
 ],
 "metadata": {
  "kernelspec": {
   "display_name": "Python 3",
   "language": "python",
   "name": "python3"
  },
  "language_info": {
   "codemirror_mode": {
    "name": "ipython",
    "version": 3
   },
   "file_extension": ".py",
   "mimetype": "text/x-python",
   "name": "python",
   "nbconvert_exporter": "python",
   "pygments_lexer": "ipython3",
   "version": "3.7.3"
  }
 },
 "nbformat": 4,
 "nbformat_minor": 2
}
